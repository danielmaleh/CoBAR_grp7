{
 "cells": [
  {
   "cell_type": "code",
   "execution_count": 8,
   "metadata": {},
   "outputs": [],
   "source": [
    "from flygym.examples import cpg_controller"
   ]
  },
  {
   "cell_type": "code",
   "execution_count": 9,
   "metadata": {},
   "outputs": [],
   "source": [
    "from pathlib import Path\n",
    "import pickle\n",
    "import numpy as np\n",
    "from tqdm import trange\n",
    "\n",
    "save_dir = Path(\"outputs\")\n",
    "save_dir.mkdir(exist_ok=True)"
   ]
  },
  {
   "cell_type": "code",
   "execution_count": 10,
   "metadata": {},
   "outputs": [],
   "source": [
    "# note that flygym.mujoco.<module> has been renamed to flygym.<module>\n",
    "# (e.g., flygym.mujoco.preprogrammed -> flygym.preprogrammed)\n",
    "from flygym.preprogrammed import all_leg_dofs\n",
    "from flygym.util import get_data_path\n",
    "\n",
    "run_time = 0.01\n",
    "timestep = 1e-4\n",
    "actuated_joints = all_leg_dofs\n",
    "\n",
    "data_path = get_data_path(\"flygym\", \"data\")\n",
    "with open(data_path / \"behavior\" / \"210902_pr_fly1.pkl\", \"rb\") as f:\n",
    "    data = pickle.load(f)\n",
    "\n",
    "target_num_steps = int(run_time / timestep)\n",
    "data_block = np.zeros((len(actuated_joints), target_num_steps))\n",
    "input_t = np.arange(len(data[\"joint_LFCoxa\"])) * data[\"meta\"][\"timestep\"]\n",
    "output_t = np.arange(target_num_steps) * timestep\n",
    "\n",
    "for i, joint in enumerate(actuated_joints):\n",
    "    data_block[i, :] = np.interp(output_t, input_t, data[joint])"
   ]
  },
  {
   "cell_type": "code",
   "execution_count": 11,
   "metadata": {},
   "outputs": [],
   "source": [
    "from flygym import Fly, Camera, SingleFlySimulation\n",
    "from flygym.arena import complex_terrain as ct\n",
    "from flygym.arena import base as ba\n",
    "from flygym.examples import obstacle_arena as oa\n",
    "from flygym import preprogrammed as pp\n",
    "import matplotlib.pyplot as plt"
   ]
  },
  {
   "cell_type": "code",
   "execution_count": 12,
   "metadata": {},
   "outputs": [],
   "source": [
    "from flygym.preprogrammed import get_collision_geometries"
   ]
  },
  {
   "cell_type": "code",
   "execution_count": 13,
   "metadata": {},
   "outputs": [],
   "source": [
    "floor_contacts = get_collision_geometries(\"legs\")\n",
    "floor_contacts += [\"Head\", \"LPedicel\", \"LFuniculus\", \"RPedicel\", \"RFuniculus\", \"LArista\", \"RArista\"]"
   ]
  },
  {
   "cell_type": "code",
   "execution_count": 14,
   "metadata": {},
   "outputs": [
    {
     "data": {
      "text/plain": [
       "['LFCoxa',\n",
       " 'LFFemur',\n",
       " 'LFTibia',\n",
       " 'LFTarsus1',\n",
       " 'LFTarsus2',\n",
       " 'LFTarsus3',\n",
       " 'LFTarsus4',\n",
       " 'LFTarsus5',\n",
       " 'LMCoxa',\n",
       " 'LMFemur',\n",
       " 'LMTibia',\n",
       " 'LMTarsus1',\n",
       " 'LMTarsus2',\n",
       " 'LMTarsus3',\n",
       " 'LMTarsus4',\n",
       " 'LMTarsus5',\n",
       " 'LHCoxa',\n",
       " 'LHFemur',\n",
       " 'LHTibia',\n",
       " 'LHTarsus1',\n",
       " 'LHTarsus2',\n",
       " 'LHTarsus3',\n",
       " 'LHTarsus4',\n",
       " 'LHTarsus5',\n",
       " 'RFCoxa',\n",
       " 'RFFemur',\n",
       " 'RFTibia',\n",
       " 'RFTarsus1',\n",
       " 'RFTarsus2',\n",
       " 'RFTarsus3',\n",
       " 'RFTarsus4',\n",
       " 'RFTarsus5',\n",
       " 'RMCoxa',\n",
       " 'RMFemur',\n",
       " 'RMTibia',\n",
       " 'RMTarsus1',\n",
       " 'RMTarsus2',\n",
       " 'RMTarsus3',\n",
       " 'RMTarsus4',\n",
       " 'RMTarsus5',\n",
       " 'RHCoxa',\n",
       " 'RHFemur',\n",
       " 'RHTibia',\n",
       " 'RHTarsus1',\n",
       " 'RHTarsus2',\n",
       " 'RHTarsus3',\n",
       " 'RHTarsus4',\n",
       " 'RHTarsus5',\n",
       " 'Head',\n",
       " 'LPedicel',\n",
       " 'LFuniculus',\n",
       " 'RPedicel',\n",
       " 'RFuniculus',\n",
       " 'LArista',\n",
       " 'RArista']"
      ]
     },
     "execution_count": 14,
     "metadata": {},
     "output_type": "execute_result"
    }
   ],
   "source": [
    "floor_contacts"
   ]
  },
  {
   "cell_type": "code",
   "execution_count": 15,
   "metadata": {},
   "outputs": [],
   "source": [
    "# most of the parameters previously passed to Parameters are now passed to Fly.\n",
    "# check the documentation for more details.\n",
    "fly = Fly(\n",
    "    spawn_pos=(0, 0, 0.5),\n",
    "    actuated_joints=actuated_joints,\n",
    "    contact_sensor_placements=[\"LArista\", \"RArista\"],\n",
    "    # floor_collisions=floor_contacts,\n",
    ")\n",
    "\n",
    "cameras = [\n",
    "    Camera(fly=fly, camera_id=f\"Animat/camera_{side}\", window_size=(256, 256))\n",
    "    for side in [\"left\", \"right\", \"top\", \"front\", \"head_zoomin\", \"left_top_zoomout\"]\n",
    "]\n",
    "\n",
    "cam = Camera(\n",
    "    fly=fly,\n",
    "    # camera_id=\"Animat/camera_head_zoomin\",\n",
    "    camera_id=\"Animat/camera_front_zoomout_long\",\n",
    ")\n",
    "\n",
    "# Initialize CPG network\n",
    "intrinsic_freqs = np.ones(6) * 12\n",
    "intrinsic_amps = np.ones(6) * 1\n",
    "phase_biases = np.pi * np.array(\n",
    "    [\n",
    "        [0, 1, 0, 1, 0, 1],\n",
    "        [1, 0, 1, 0, 1, 0],\n",
    "        [0, 1, 0, 1, 0, 1],\n",
    "        [1, 0, 1, 0, 1, 0],\n",
    "        [0, 1, 0, 1, 0, 1],\n",
    "        [1, 0, 1, 0, 1, 0],\n",
    "    ]\n",
    ")\n",
    "coupling_weights = (phase_biases > 0) * 10\n",
    "convergence_coefs = np.ones(6) * 20\n",
    "\n",
    "cpg = cpg_controller.CPGNetwork(\n",
    "        timestep=timestep,\n",
    "        intrinsic_freqs=intrinsic_freqs,\n",
    "        intrinsic_amps=intrinsic_amps,\n",
    "        coupling_weights=coupling_weights,\n",
    "        phase_biases=phase_biases,\n",
    "        convergence_coefs=convergence_coefs,\n",
    "    )\n",
    "\n",
    "arena = ct.FloatingInclinedBlockArena()\n",
    "arena1 = ct.MixedTerrain()\n",
    "arena2 = ct.BlocksTerrain()\n",
    "arena3 = ba.FlatTerrain()\n",
    "arena4 = ba.ObstacleArenaGrp7()\n",
    "\n",
    "fly._define_observation_space(arena4)\n",
    "\n",
    "sim = SingleFlySimulation(\n",
    "    fly=fly,\n",
    "    cameras=cam,\n",
    "    arena=arena3,\n",
    ")\n",
    "obs, info = sim.reset()\n",
    "\n",
    "fly.change_segment_color(sim.physics, \"LArista\", (1, 0, 0, 0.5))\n",
    "\n",
    "import imageio\n",
    "\n",
    "# with imageio.get_writer(save_dir / \"multiview.mp4\", fps=cameras[0].fps) as writer:\n",
    "#     for i in trange(target_num_steps):\n",
    "#         joint_pos = data_block[:, i]\n",
    "#         action = {\"joints\": joint_pos}\n",
    "#         obs, reward, terminated, truncated, info = sim.step(action)\n",
    "#         images = sim.render()\n",
    "\n",
    "#         if all(i is not None for i in images):\n",
    "#             frame = np.concatenate(images, axis=1)\n",
    "#             writer.append_data(frame)\n",
    "images = sim.render()\n",
    "\n",
    "# note that save_video is a method of Camera instead of Simulation\n",
    "# cam.save_video(save_dir / \"single_fly.mp4\")\n"
   ]
  },
  {
   "cell_type": "code",
   "execution_count": 16,
   "metadata": {},
   "outputs": [
    {
     "name": "stderr",
     "output_type": "stream",
     "text": [
      "100%|██████████| 100/100 [00:00<00:00, 244.03it/s]\n"
     ]
    }
   ],
   "source": [
    "from flygym.examples.common import PreprogrammedSteps\n",
    "\n",
    "preprogrammed_steps = PreprogrammedSteps()\n",
    "# Run simulation\n",
    "cpg_controller.run_cpg_simulation(sim, cpg, preprogrammed_steps, run_time)\n",
    "\n",
    "# Save video\n",
    "sim.cameras[0].save_video(\"./outputs/cpg_controller.mp4\")"
   ]
  },
  {
   "cell_type": "code",
   "execution_count": 17,
   "metadata": {},
   "outputs": [
    {
     "name": "stdout",
     "output_type": "stream",
     "text": [
      "[array([0., 0., 0.], dtype=float32), array([0., 0., 0.], dtype=float32)]\n"
     ]
    }
   ],
   "source": [
    "# print(obs['contact_forces'])\n",
    "\n",
    "antenae_contact = [obs['contact_forces'][0] , obs['contact_forces'][1]]\n",
    "print(antenae_contact)\n",
    "\n",
    "# if antenae_contact[0] > 0.5 and antenae_contact[1] > 0.5:\n",
    "#     fly.backward_walking(antenae_contact[0], antenae_contact[1])\\\n",
    "#     # fly.change_segment_color for when antenae are touched.\n",
    "# else :\n",
    "#     fly.forward_walking()"
   ]
  },
  {
   "cell_type": "code",
   "execution_count": 18,
   "metadata": {},
   "outputs": [
    {
     "data": {
      "text/plain": [
       "{'ground_LFCoxa': MJCF Element: <pair name=\"ground_0_LFCoxa\" class=\"/\" geom1=\"0/LFCoxa\" geom2=\"ground\" friction=\"1 1 0.0050000000000000001 0.0001 0.0001\" solref=\"0.00020000000000000001 1000\" solimp=\"0.999 0.99990000000000001 0.001 0.5 2\" margin=\"0\"/>,\n",
       " 'ground_LFFemur': MJCF Element: <pair name=\"ground_0_LFFemur\" class=\"/\" geom1=\"0/LFFemur\" geom2=\"ground\" friction=\"1 1 0.0050000000000000001 0.0001 0.0001\" solref=\"0.00020000000000000001 1000\" solimp=\"0.999 0.99990000000000001 0.001 0.5 2\" margin=\"0\"/>,\n",
       " 'ground_LFTibia': MJCF Element: <pair name=\"ground_0_LFTibia\" class=\"/\" geom1=\"0/LFTibia\" geom2=\"ground\" friction=\"1 1 0.0050000000000000001 0.0001 0.0001\" solref=\"0.00020000000000000001 1000\" solimp=\"0.999 0.99990000000000001 0.001 0.5 2\" margin=\"0\"/>,\n",
       " 'ground_LFTarsus1': MJCF Element: <pair name=\"ground_0_LFTarsus1\" class=\"/\" geom1=\"0/LFTarsus1\" geom2=\"ground\" friction=\"1 1 0.0050000000000000001 0.0001 0.0001\" solref=\"0.00020000000000000001 1000\" solimp=\"0.999 0.99990000000000001 0.001 0.5 2\" margin=\"0\"/>,\n",
       " 'ground_LFTarsus2': MJCF Element: <pair name=\"ground_0_LFTarsus2\" class=\"/\" geom1=\"0/LFTarsus2\" geom2=\"ground\" friction=\"1 1 0.0050000000000000001 0.0001 0.0001\" solref=\"0.00020000000000000001 1000\" solimp=\"0.999 0.99990000000000001 0.001 0.5 2\" margin=\"0\"/>,\n",
       " 'ground_LFTarsus3': MJCF Element: <pair name=\"ground_0_LFTarsus3\" class=\"/\" geom1=\"0/LFTarsus3\" geom2=\"ground\" friction=\"1 1 0.0050000000000000001 0.0001 0.0001\" solref=\"0.00020000000000000001 1000\" solimp=\"0.999 0.99990000000000001 0.001 0.5 2\" margin=\"0\"/>,\n",
       " 'ground_LFTarsus4': MJCF Element: <pair name=\"ground_0_LFTarsus4\" class=\"/\" geom1=\"0/LFTarsus4\" geom2=\"ground\" friction=\"1 1 0.0050000000000000001 0.0001 0.0001\" solref=\"0.00020000000000000001 1000\" solimp=\"0.999 0.99990000000000001 0.001 0.5 2\" margin=\"0\"/>,\n",
       " 'ground_LFTarsus5': MJCF Element: <pair name=\"ground_0_LFTarsus5\" class=\"/\" geom1=\"0/LFTarsus5\" geom2=\"ground\" friction=\"1 1 0.0050000000000000001 0.0001 0.0001\" solref=\"0.00020000000000000001 1000\" solimp=\"0.999 0.99990000000000001 0.001 0.5 2\" margin=\"0\"/>,\n",
       " 'ground_LMCoxa': MJCF Element: <pair name=\"ground_0_LMCoxa\" class=\"/\" geom1=\"0/LMCoxa\" geom2=\"ground\" friction=\"1 1 0.0050000000000000001 0.0001 0.0001\" solref=\"0.00020000000000000001 1000\" solimp=\"0.999 0.99990000000000001 0.001 0.5 2\" margin=\"0\"/>,\n",
       " 'ground_LMFemur': MJCF Element: <pair name=\"ground_0_LMFemur\" class=\"/\" geom1=\"0/LMFemur\" geom2=\"ground\" friction=\"1 1 0.0050000000000000001 0.0001 0.0001\" solref=\"0.00020000000000000001 1000\" solimp=\"0.999 0.99990000000000001 0.001 0.5 2\" margin=\"0\"/>,\n",
       " 'ground_LMTibia': MJCF Element: <pair name=\"ground_0_LMTibia\" class=\"/\" geom1=\"0/LMTibia\" geom2=\"ground\" friction=\"1 1 0.0050000000000000001 0.0001 0.0001\" solref=\"0.00020000000000000001 1000\" solimp=\"0.999 0.99990000000000001 0.001 0.5 2\" margin=\"0\"/>,\n",
       " 'ground_LMTarsus1': MJCF Element: <pair name=\"ground_0_LMTarsus1\" class=\"/\" geom1=\"0/LMTarsus1\" geom2=\"ground\" friction=\"1 1 0.0050000000000000001 0.0001 0.0001\" solref=\"0.00020000000000000001 1000\" solimp=\"0.999 0.99990000000000001 0.001 0.5 2\" margin=\"0\"/>,\n",
       " 'ground_LMTarsus2': MJCF Element: <pair name=\"ground_0_LMTarsus2\" class=\"/\" geom1=\"0/LMTarsus2\" geom2=\"ground\" friction=\"1 1 0.0050000000000000001 0.0001 0.0001\" solref=\"0.00020000000000000001 1000\" solimp=\"0.999 0.99990000000000001 0.001 0.5 2\" margin=\"0\"/>,\n",
       " 'ground_LMTarsus3': MJCF Element: <pair name=\"ground_0_LMTarsus3\" class=\"/\" geom1=\"0/LMTarsus3\" geom2=\"ground\" friction=\"1 1 0.0050000000000000001 0.0001 0.0001\" solref=\"0.00020000000000000001 1000\" solimp=\"0.999 0.99990000000000001 0.001 0.5 2\" margin=\"0\"/>,\n",
       " 'ground_LMTarsus4': MJCF Element: <pair name=\"ground_0_LMTarsus4\" class=\"/\" geom1=\"0/LMTarsus4\" geom2=\"ground\" friction=\"1 1 0.0050000000000000001 0.0001 0.0001\" solref=\"0.00020000000000000001 1000\" solimp=\"0.999 0.99990000000000001 0.001 0.5 2\" margin=\"0\"/>,\n",
       " 'ground_LMTarsus5': MJCF Element: <pair name=\"ground_0_LMTarsus5\" class=\"/\" geom1=\"0/LMTarsus5\" geom2=\"ground\" friction=\"1 1 0.0050000000000000001 0.0001 0.0001\" solref=\"0.00020000000000000001 1000\" solimp=\"0.999 0.99990000000000001 0.001 0.5 2\" margin=\"0\"/>,\n",
       " 'ground_LHCoxa': MJCF Element: <pair name=\"ground_0_LHCoxa\" class=\"/\" geom1=\"0/LHCoxa\" geom2=\"ground\" friction=\"1 1 0.0050000000000000001 0.0001 0.0001\" solref=\"0.00020000000000000001 1000\" solimp=\"0.999 0.99990000000000001 0.001 0.5 2\" margin=\"0\"/>,\n",
       " 'ground_LHFemur': MJCF Element: <pair name=\"ground_0_LHFemur\" class=\"/\" geom1=\"0/LHFemur\" geom2=\"ground\" friction=\"1 1 0.0050000000000000001 0.0001 0.0001\" solref=\"0.00020000000000000001 1000\" solimp=\"0.999 0.99990000000000001 0.001 0.5 2\" margin=\"0\"/>,\n",
       " 'ground_LHTibia': MJCF Element: <pair name=\"ground_0_LHTibia\" class=\"/\" geom1=\"0/LHTibia\" geom2=\"ground\" friction=\"1 1 0.0050000000000000001 0.0001 0.0001\" solref=\"0.00020000000000000001 1000\" solimp=\"0.999 0.99990000000000001 0.001 0.5 2\" margin=\"0\"/>,\n",
       " 'ground_LHTarsus1': MJCF Element: <pair name=\"ground_0_LHTarsus1\" class=\"/\" geom1=\"0/LHTarsus1\" geom2=\"ground\" friction=\"1 1 0.0050000000000000001 0.0001 0.0001\" solref=\"0.00020000000000000001 1000\" solimp=\"0.999 0.99990000000000001 0.001 0.5 2\" margin=\"0\"/>,\n",
       " 'ground_LHTarsus2': MJCF Element: <pair name=\"ground_0_LHTarsus2\" class=\"/\" geom1=\"0/LHTarsus2\" geom2=\"ground\" friction=\"1 1 0.0050000000000000001 0.0001 0.0001\" solref=\"0.00020000000000000001 1000\" solimp=\"0.999 0.99990000000000001 0.001 0.5 2\" margin=\"0\"/>,\n",
       " 'ground_LHTarsus3': MJCF Element: <pair name=\"ground_0_LHTarsus3\" class=\"/\" geom1=\"0/LHTarsus3\" geom2=\"ground\" friction=\"1 1 0.0050000000000000001 0.0001 0.0001\" solref=\"0.00020000000000000001 1000\" solimp=\"0.999 0.99990000000000001 0.001 0.5 2\" margin=\"0\"/>,\n",
       " 'ground_LHTarsus4': MJCF Element: <pair name=\"ground_0_LHTarsus4\" class=\"/\" geom1=\"0/LHTarsus4\" geom2=\"ground\" friction=\"1 1 0.0050000000000000001 0.0001 0.0001\" solref=\"0.00020000000000000001 1000\" solimp=\"0.999 0.99990000000000001 0.001 0.5 2\" margin=\"0\"/>,\n",
       " 'ground_LHTarsus5': MJCF Element: <pair name=\"ground_0_LHTarsus5\" class=\"/\" geom1=\"0/LHTarsus5\" geom2=\"ground\" friction=\"1 1 0.0050000000000000001 0.0001 0.0001\" solref=\"0.00020000000000000001 1000\" solimp=\"0.999 0.99990000000000001 0.001 0.5 2\" margin=\"0\"/>,\n",
       " 'ground_RFCoxa': MJCF Element: <pair name=\"ground_0_RFCoxa\" class=\"/\" geom1=\"0/RFCoxa\" geom2=\"ground\" friction=\"1 1 0.0050000000000000001 0.0001 0.0001\" solref=\"0.00020000000000000001 1000\" solimp=\"0.999 0.99990000000000001 0.001 0.5 2\" margin=\"0\"/>,\n",
       " 'ground_RFFemur': MJCF Element: <pair name=\"ground_0_RFFemur\" class=\"/\" geom1=\"0/RFFemur\" geom2=\"ground\" friction=\"1 1 0.0050000000000000001 0.0001 0.0001\" solref=\"0.00020000000000000001 1000\" solimp=\"0.999 0.99990000000000001 0.001 0.5 2\" margin=\"0\"/>,\n",
       " 'ground_RFTibia': MJCF Element: <pair name=\"ground_0_RFTibia\" class=\"/\" geom1=\"0/RFTibia\" geom2=\"ground\" friction=\"1 1 0.0050000000000000001 0.0001 0.0001\" solref=\"0.00020000000000000001 1000\" solimp=\"0.999 0.99990000000000001 0.001 0.5 2\" margin=\"0\"/>,\n",
       " 'ground_RFTarsus1': MJCF Element: <pair name=\"ground_0_RFTarsus1\" class=\"/\" geom1=\"0/RFTarsus1\" geom2=\"ground\" friction=\"1 1 0.0050000000000000001 0.0001 0.0001\" solref=\"0.00020000000000000001 1000\" solimp=\"0.999 0.99990000000000001 0.001 0.5 2\" margin=\"0\"/>,\n",
       " 'ground_RFTarsus2': MJCF Element: <pair name=\"ground_0_RFTarsus2\" class=\"/\" geom1=\"0/RFTarsus2\" geom2=\"ground\" friction=\"1 1 0.0050000000000000001 0.0001 0.0001\" solref=\"0.00020000000000000001 1000\" solimp=\"0.999 0.99990000000000001 0.001 0.5 2\" margin=\"0\"/>,\n",
       " 'ground_RFTarsus3': MJCF Element: <pair name=\"ground_0_RFTarsus3\" class=\"/\" geom1=\"0/RFTarsus3\" geom2=\"ground\" friction=\"1 1 0.0050000000000000001 0.0001 0.0001\" solref=\"0.00020000000000000001 1000\" solimp=\"0.999 0.99990000000000001 0.001 0.5 2\" margin=\"0\"/>,\n",
       " 'ground_RFTarsus4': MJCF Element: <pair name=\"ground_0_RFTarsus4\" class=\"/\" geom1=\"0/RFTarsus4\" geom2=\"ground\" friction=\"1 1 0.0050000000000000001 0.0001 0.0001\" solref=\"0.00020000000000000001 1000\" solimp=\"0.999 0.99990000000000001 0.001 0.5 2\" margin=\"0\"/>,\n",
       " 'ground_RFTarsus5': MJCF Element: <pair name=\"ground_0_RFTarsus5\" class=\"/\" geom1=\"0/RFTarsus5\" geom2=\"ground\" friction=\"1 1 0.0050000000000000001 0.0001 0.0001\" solref=\"0.00020000000000000001 1000\" solimp=\"0.999 0.99990000000000001 0.001 0.5 2\" margin=\"0\"/>,\n",
       " 'ground_RMCoxa': MJCF Element: <pair name=\"ground_0_RMCoxa\" class=\"/\" geom1=\"0/RMCoxa\" geom2=\"ground\" friction=\"1 1 0.0050000000000000001 0.0001 0.0001\" solref=\"0.00020000000000000001 1000\" solimp=\"0.999 0.99990000000000001 0.001 0.5 2\" margin=\"0\"/>,\n",
       " 'ground_RMFemur': MJCF Element: <pair name=\"ground_0_RMFemur\" class=\"/\" geom1=\"0/RMFemur\" geom2=\"ground\" friction=\"1 1 0.0050000000000000001 0.0001 0.0001\" solref=\"0.00020000000000000001 1000\" solimp=\"0.999 0.99990000000000001 0.001 0.5 2\" margin=\"0\"/>,\n",
       " 'ground_RMTibia': MJCF Element: <pair name=\"ground_0_RMTibia\" class=\"/\" geom1=\"0/RMTibia\" geom2=\"ground\" friction=\"1 1 0.0050000000000000001 0.0001 0.0001\" solref=\"0.00020000000000000001 1000\" solimp=\"0.999 0.99990000000000001 0.001 0.5 2\" margin=\"0\"/>,\n",
       " 'ground_RMTarsus1': MJCF Element: <pair name=\"ground_0_RMTarsus1\" class=\"/\" geom1=\"0/RMTarsus1\" geom2=\"ground\" friction=\"1 1 0.0050000000000000001 0.0001 0.0001\" solref=\"0.00020000000000000001 1000\" solimp=\"0.999 0.99990000000000001 0.001 0.5 2\" margin=\"0\"/>,\n",
       " 'ground_RMTarsus2': MJCF Element: <pair name=\"ground_0_RMTarsus2\" class=\"/\" geom1=\"0/RMTarsus2\" geom2=\"ground\" friction=\"1 1 0.0050000000000000001 0.0001 0.0001\" solref=\"0.00020000000000000001 1000\" solimp=\"0.999 0.99990000000000001 0.001 0.5 2\" margin=\"0\"/>,\n",
       " 'ground_RMTarsus3': MJCF Element: <pair name=\"ground_0_RMTarsus3\" class=\"/\" geom1=\"0/RMTarsus3\" geom2=\"ground\" friction=\"1 1 0.0050000000000000001 0.0001 0.0001\" solref=\"0.00020000000000000001 1000\" solimp=\"0.999 0.99990000000000001 0.001 0.5 2\" margin=\"0\"/>,\n",
       " 'ground_RMTarsus4': MJCF Element: <pair name=\"ground_0_RMTarsus4\" class=\"/\" geom1=\"0/RMTarsus4\" geom2=\"ground\" friction=\"1 1 0.0050000000000000001 0.0001 0.0001\" solref=\"0.00020000000000000001 1000\" solimp=\"0.999 0.99990000000000001 0.001 0.5 2\" margin=\"0\"/>,\n",
       " 'ground_RMTarsus5': MJCF Element: <pair name=\"ground_0_RMTarsus5\" class=\"/\" geom1=\"0/RMTarsus5\" geom2=\"ground\" friction=\"1 1 0.0050000000000000001 0.0001 0.0001\" solref=\"0.00020000000000000001 1000\" solimp=\"0.999 0.99990000000000001 0.001 0.5 2\" margin=\"0\"/>,\n",
       " 'ground_RHCoxa': MJCF Element: <pair name=\"ground_0_RHCoxa\" class=\"/\" geom1=\"0/RHCoxa\" geom2=\"ground\" friction=\"1 1 0.0050000000000000001 0.0001 0.0001\" solref=\"0.00020000000000000001 1000\" solimp=\"0.999 0.99990000000000001 0.001 0.5 2\" margin=\"0\"/>,\n",
       " 'ground_RHFemur': MJCF Element: <pair name=\"ground_0_RHFemur\" class=\"/\" geom1=\"0/RHFemur\" geom2=\"ground\" friction=\"1 1 0.0050000000000000001 0.0001 0.0001\" solref=\"0.00020000000000000001 1000\" solimp=\"0.999 0.99990000000000001 0.001 0.5 2\" margin=\"0\"/>,\n",
       " 'ground_RHTibia': MJCF Element: <pair name=\"ground_0_RHTibia\" class=\"/\" geom1=\"0/RHTibia\" geom2=\"ground\" friction=\"1 1 0.0050000000000000001 0.0001 0.0001\" solref=\"0.00020000000000000001 1000\" solimp=\"0.999 0.99990000000000001 0.001 0.5 2\" margin=\"0\"/>,\n",
       " 'ground_RHTarsus1': MJCF Element: <pair name=\"ground_0_RHTarsus1\" class=\"/\" geom1=\"0/RHTarsus1\" geom2=\"ground\" friction=\"1 1 0.0050000000000000001 0.0001 0.0001\" solref=\"0.00020000000000000001 1000\" solimp=\"0.999 0.99990000000000001 0.001 0.5 2\" margin=\"0\"/>,\n",
       " 'ground_RHTarsus2': MJCF Element: <pair name=\"ground_0_RHTarsus2\" class=\"/\" geom1=\"0/RHTarsus2\" geom2=\"ground\" friction=\"1 1 0.0050000000000000001 0.0001 0.0001\" solref=\"0.00020000000000000001 1000\" solimp=\"0.999 0.99990000000000001 0.001 0.5 2\" margin=\"0\"/>,\n",
       " 'ground_RHTarsus3': MJCF Element: <pair name=\"ground_0_RHTarsus3\" class=\"/\" geom1=\"0/RHTarsus3\" geom2=\"ground\" friction=\"1 1 0.0050000000000000001 0.0001 0.0001\" solref=\"0.00020000000000000001 1000\" solimp=\"0.999 0.99990000000000001 0.001 0.5 2\" margin=\"0\"/>,\n",
       " 'ground_RHTarsus4': MJCF Element: <pair name=\"ground_0_RHTarsus4\" class=\"/\" geom1=\"0/RHTarsus4\" geom2=\"ground\" friction=\"1 1 0.0050000000000000001 0.0001 0.0001\" solref=\"0.00020000000000000001 1000\" solimp=\"0.999 0.99990000000000001 0.001 0.5 2\" margin=\"0\"/>,\n",
       " 'ground_RHTarsus5': MJCF Element: <pair name=\"ground_0_RHTarsus5\" class=\"/\" geom1=\"0/RHTarsus5\" geom2=\"ground\" friction=\"1 1 0.0050000000000000001 0.0001 0.0001\" solref=\"0.00020000000000000001 1000\" solimp=\"0.999 0.99990000000000001 0.001 0.5 2\" margin=\"0\"/>}"
      ]
     },
     "execution_count": 18,
     "metadata": {},
     "output_type": "execute_result"
    }
   ],
   "source": [
    "fly._floor_contacts "
   ]
  },
  {
   "cell_type": "code",
   "execution_count": 19,
   "metadata": {},
   "outputs": [
    {
     "data": {
      "image/png": "[encoded data removed]",
      "text/plain": [
       "<Figure size 1500x1500 with 1 Axes>"
      ]
     },
     "metadata": {},
     "output_type": "display_data"
    },
    {
     "data": {
      "text/html": [
       "<video src=\"outputs\\cpg_controller.mp4\" controls  >\n",
       "      Your browser does not support the <code>video</code> element.\n",
       "    </video>"
      ],
      "text/plain": [
       "<IPython.core.display.Video object>"
      ]
     },
     "execution_count": 19,
     "metadata": {},
     "output_type": "execute_result"
    }
   ],
   "source": [
    "from IPython.display import Video\n",
    "\n",
    "# Video(str(save_dir / \"multiview.mp4\"))\n",
    "\n",
    "# plt.imshow(images[-1])\n",
    "# show all cameras in a single big plot\n",
    "plt.figure(figsize=(15, 15))\n",
    "plt.imshow(np.concatenate(images, axis=1))\n",
    "plt.axis(\"off\")\n",
    "plt.show()\n",
    "\n",
    "\n",
    "\n",
    "# Video(str(save_dir / \"single_fly.mp4\"))\n",
    "Video(str(save_dir / \"cpg_controller.mp4\"))"
   ]
  },
  {
   "cell_type": "markdown",
   "metadata": {},
   "source": [
    "cpg controller\n",
    "turning controller\n",
    "hybrid controller\n",
    "rule based contoller\n",
    "\n",
    "arena with correct obstacles\n",
    "\n",
    "backward-walking and turning from paper implemented in all controllers\n",
    "randomized froward walking from paper implemented in all controllers\n",
    "\n",
    "antenae and mechanical contact sensors, use fly attributes for this.\n",
    "\n",
    "actuate antenae and head.\n",
    "\n",
    "convert recordings to preprogrammed steps.\n"
   ]
  },
  {
   "cell_type": "code",
   "execution_count": 13,
   "metadata": {},
   "outputs": [
    {
     "data": {
      "text/plain": [
       "{'joints': array([[ 4.79667276e-01,  1.04959905e+00,  1.07087053e-01,\n",
       "         -2.21419692e+00,  7.49956727e-01,  1.64541221e+00,\n",
       "         -5.74112356e-01,  3.05318356e-01,  1.87357318e+00,\n",
       "          8.03170085e-01, -1.56841528e+00, -8.67845565e-02,\n",
       "          2.03343010e+00, -7.35673845e-01,  8.12290013e-01,\n",
       "          2.46645570e+00,  4.68433827e-01, -1.54638243e+00,\n",
       "         -2.48246983e-01,  1.81263804e+00, -2.31129751e-01,\n",
       "          6.20310962e-01, -1.15395975e+00, -1.36735439e-01,\n",
       "         -2.27889085e+00, -9.52231407e-01,  2.00244927e+00,\n",
       "         -6.70218408e-01, -1.82581216e-01, -1.75531638e+00,\n",
       "         -6.84071660e-01, -1.71454346e+00,  1.01744324e-01,\n",
       "          2.08726215e+00, -6.36342287e-01,  5.62291682e-01,\n",
       "         -2.45819426e+00, -4.39789474e-01, -1.61093163e+00,\n",
       "          4.06307399e-01,  1.48844182e+00,  3.61068151e-03],\n",
       "        [ 1.09215784e+01,  1.06888132e+01,  9.18356553e-02,\n",
       "         -1.19320126e+01,  1.07459669e+01,  9.06565094e+00,\n",
       "         -1.26921460e-01, -1.95555859e+01,  1.23370028e+00,\n",
       "         -8.91696167e+00, -7.16381741e+00,  5.81457825e+01,\n",
       "          1.39589729e+01, -4.00386505e+01, -7.11355209e+00,\n",
       "          2.81307936e+00,  8.97015929e-01,  7.80027151e+00,\n",
       "         -1.24319792e+00, -2.72503014e+01,  3.89947861e-01,\n",
       "          6.42719841e+00, -2.14911137e+01, -1.44126463e+01,\n",
       "         -9.20750809e+00, -2.29709034e+01,  1.68630886e+01,\n",
       "          2.92679348e+01,  3.13527775e+00, -4.54074383e+00,\n",
       "         -4.42128277e+00, -2.13733196e+00,  1.29827309e+01,\n",
       "          5.32299805e+00,  3.26090360e+00, -9.22763157e+00,\n",
       "          2.83899937e+01,  5.19357741e-01, -5.03114738e+01,\n",
       "          8.92763996e+00,  8.10785751e+01, -1.56322980e+00],\n",
       "        [ 1.48295332e-09, -7.70481345e-10, -1.46610568e-09,\n",
       "          1.16564769e-09,  6.30280050e-10,  9.54127888e-10,\n",
       "          7.86855248e-10, -1.62701741e-09, -8.91919941e-11,\n",
       "         -7.59454166e-10, -1.24888197e-10,  3.59632679e-09,\n",
       "          1.12639664e-09, -2.14398721e-09, -3.61926156e-09,\n",
       "          1.23161914e-09, -1.07779385e-09,  4.37553505e-09,\n",
       "          7.18616625e-11, -6.29379049e-10,  8.18276447e-10,\n",
       "          2.46600118e-09, -8.54373933e-11,  9.44103018e-10,\n",
       "          1.09255283e-09, -9.49801349e-10,  3.04722736e-09,\n",
       "          2.90959434e-09,  1.16652921e-09, -1.03638254e-09,\n",
       "          8.82705353e-10,  5.75259729e-10,  1.83747828e-09,\n",
       "          1.00023467e-09,  5.60362368e-10, -2.48453658e-09,\n",
       "          1.70498060e-09,  1.04447310e-11, -1.50800183e-09,\n",
       "         -7.62916952e-10,  5.55680257e-09,  4.95655739e-10]], dtype=float32),\n",
       " 'fly': array([[ 0.7372884 ,  0.15536653,  1.0595362 ],\n",
       "        [13.11128   ,  1.7700478 ,  0.16642512],\n",
       "        [ 1.6063855 ,  0.05081875,  0.79759115],\n",
       "        [-5.1218333 ,  0.96967316,  3.0407631 ]], dtype=float32),\n",
       " 'contact_forces': array([[0., 0., 0.],\n",
       "        [0., 0., 0.]], dtype=float32),\n",
       " 'end_effectors': array([[ 1.9906644 ,  1.1648084 ,  0.02287637],\n",
       "        [-0.06883971,  1.5418513 ,  0.04213754],\n",
       "        [-1.2001835 ,  0.49985993,  0.03383088],\n",
       "        [ 1.8616984 , -0.6903246 ,  0.02724914],\n",
       "        [ 0.7579825 , -1.4253445 ,  0.04056599],\n",
       "        [-1.2673619 , -0.529783  ,  0.04045357]], dtype=float32),\n",
       " 'fly_orientation': array([0.7139602 , 0.06092067, 0.697531  ], dtype=float32)}"
      ]
     },
     "execution_count": 13,
     "metadata": {},
     "output_type": "execute_result"
    }
   ],
   "source": [
    "fly.get_observation(sim)\n",
    "# fly.change_segment_color for when antenae are touched.\n",
    "# pp.get_collision_geometries()"
   ]
  },
  {
   "cell_type": "code",
   "execution_count": null,
   "metadata": {},
   "outputs": [],
   "source": []
  },
  {
   "cell_type": "code",
   "execution_count": null,
   "metadata": {},
   "outputs": [],
   "source": []
  }
 ],
 "metadata": {
  "kernelspec": {
   "display_name": "flygym",
   "language": "python",
   "name": "python3"
  },
  "language_info": {
   "codemirror_mode": {
    "name": "ipython",
    "version": 3
   },
   "file_extension": ".py",
   "mimetype": "text/x-python",
   "name": "python",
   "nbconvert_exporter": "python",
   "pygments_lexer": "ipython3",
   "version": "3.11.9"
  }
 },
 "nbformat": 4,
 "nbformat_minor": 2
}
